{
  "cells": [
    {
      "cell_type": "markdown",
      "metadata": {
        "id": "view-in-github",
        "colab_type": "text"
      },
      "source": [
        "<a href=\"https://colab.research.google.com/github/dbaweja/dbaweja.github.io/blob/main/Gradient_Descent_Code_Demo_V2.ipynb\" target=\"_parent\"><img src=\"https://colab.research.google.com/assets/colab-badge.svg\" alt=\"Open In Colab\"/></a>"
      ]
    },
    {
      "cell_type": "markdown",
      "source": [
        "### Importing libraries"
      ],
      "metadata": {
        "id": "6b9w3Y3oJU4X"
      }
    },
    {
      "cell_type": "code",
      "execution_count": null,
      "metadata": {
        "id": "g4ghKGG1f8fS"
      },
      "outputs": [],
      "source": [
        "import numpy as np\n",
        "import pandas as pd\n",
        "import matplotlib.pyplot as plt\n",
        "import tensorflow as tf\n",
        "from sklearn.metrics import accuracy_score\n",
        "from tensorflow import keras\n",
        "from sklearn.model_selection import train_test_split\n",
        "%matplotlib inline"
      ]
    },
    {
      "cell_type": "markdown",
      "source": [
        "### Loading data"
      ],
      "metadata": {
        "id": "mxvxPmR0JaFf"
      }
    },
    {
      "cell_type": "code",
      "source": [
        "import os\n",
        "\n",
        "# give googe drive permission\n",
        "from google.colab import drive\n",
        "drive.mount('/content/drive')"
      ],
      "metadata": {
        "colab": {
          "base_uri": "https://localhost:8080/"
        },
        "outputId": "a722fdf3-ea99-4b08-9972-c7439d1fcba2",
        "id": "KzWEd0mIvN7o"
      },
      "execution_count": null,
      "outputs": [
        {
          "output_type": "stream",
          "name": "stdout",
          "text": [
            "Mounted at /content/drive\n"
          ]
        }
      ]
    },
    {
      "cell_type": "code",
      "source": [
        "os.chdir(\"/content/drive/MyDrive/NN_Colab/Mnist - Gradient Decent \")\n",
        "os.getcwd()"
      ],
      "metadata": {
        "colab": {
          "base_uri": "https://localhost:8080/",
          "height": 36
        },
        "outputId": "5c34828a-e7db-4d96-810f-13452eff1635",
        "id": "bJ7ftx6ZvN7o"
      },
      "execution_count": null,
      "outputs": [
        {
          "output_type": "execute_result",
          "data": {
            "text/plain": [
              "'/content/drive/.shortcut-targets-by-id/1clyOjhjAFaRHSJdsY0PeySdU957jPxQu/NN_Colab/Mnist - Gradient Decent '"
            ],
            "application/vnd.google.colaboratory.intrinsic+json": {
              "type": "string"
            }
          },
          "metadata": {},
          "execution_count": 5
        }
      ]
    },
    {
      "cell_type": "code",
      "execution_count": null,
      "metadata": {
        "id": "KYeZzPYwQ_14"
      },
      "outputs": [],
      "source": [
        "data = pd.read_csv('train.csv')\n",
        "X_unseen = pd.read_csv(\"test.csv\")"
      ]
    },
    {
      "cell_type": "code",
      "execution_count": null,
      "metadata": {
        "colab": {
          "base_uri": "https://localhost:8080/",
          "height": 235
        },
        "id": "7cqrZWx3iOZs",
        "outputId": "74b60fcb-2193-4e4a-fe99-b9060ccdc507"
      },
      "outputs": [
        {
          "output_type": "execute_result",
          "data": {
            "text/plain": [
              "   label  pixel0  pixel1  pixel2  pixel3  pixel4  pixel5  pixel6  pixel7  \\\n",
              "0      1       0       0       0       0       0       0       0       0   \n",
              "1      0       0       0       0       0       0       0       0       0   \n",
              "2      1       0       0       0       0       0       0       0       0   \n",
              "3      4       0       0       0       0       0       0       0       0   \n",
              "4      0       0       0       0       0       0       0       0       0   \n",
              "\n",
              "   pixel8  ...  pixel774  pixel775  pixel776  pixel777  pixel778  pixel779  \\\n",
              "0       0  ...         0         0         0         0         0         0   \n",
              "1       0  ...         0         0         0         0         0         0   \n",
              "2       0  ...         0         0         0         0         0         0   \n",
              "3       0  ...         0         0         0         0         0         0   \n",
              "4       0  ...         0         0         0         0         0         0   \n",
              "\n",
              "   pixel780  pixel781  pixel782  pixel783  \n",
              "0         0         0         0         0  \n",
              "1         0         0         0         0  \n",
              "2         0         0         0         0  \n",
              "3         0         0         0         0  \n",
              "4         0         0         0         0  \n",
              "\n",
              "[5 rows x 785 columns]"
            ],
            "text/html": [
              "\n",
              "  <div id=\"df-99013d9c-28c2-4845-8f4e-06c32e49b3a0\">\n",
              "    <div class=\"colab-df-container\">\n",
              "      <div>\n",
              "<style scoped>\n",
              "    .dataframe tbody tr th:only-of-type {\n",
              "        vertical-align: middle;\n",
              "    }\n",
              "\n",
              "    .dataframe tbody tr th {\n",
              "        vertical-align: top;\n",
              "    }\n",
              "\n",
              "    .dataframe thead th {\n",
              "        text-align: right;\n",
              "    }\n",
              "</style>\n",
              "<table border=\"1\" class=\"dataframe\">\n",
              "  <thead>\n",
              "    <tr style=\"text-align: right;\">\n",
              "      <th></th>\n",
              "      <th>label</th>\n",
              "      <th>pixel0</th>\n",
              "      <th>pixel1</th>\n",
              "      <th>pixel2</th>\n",
              "      <th>pixel3</th>\n",
              "      <th>pixel4</th>\n",
              "      <th>pixel5</th>\n",
              "      <th>pixel6</th>\n",
              "      <th>pixel7</th>\n",
              "      <th>pixel8</th>\n",
              "      <th>...</th>\n",
              "      <th>pixel774</th>\n",
              "      <th>pixel775</th>\n",
              "      <th>pixel776</th>\n",
              "      <th>pixel777</th>\n",
              "      <th>pixel778</th>\n",
              "      <th>pixel779</th>\n",
              "      <th>pixel780</th>\n",
              "      <th>pixel781</th>\n",
              "      <th>pixel782</th>\n",
              "      <th>pixel783</th>\n",
              "    </tr>\n",
              "  </thead>\n",
              "  <tbody>\n",
              "    <tr>\n",
              "      <th>0</th>\n",
              "      <td>1</td>\n",
              "      <td>0</td>\n",
              "      <td>0</td>\n",
              "      <td>0</td>\n",
              "      <td>0</td>\n",
              "      <td>0</td>\n",
              "      <td>0</td>\n",
              "      <td>0</td>\n",
              "      <td>0</td>\n",
              "      <td>0</td>\n",
              "      <td>...</td>\n",
              "      <td>0</td>\n",
              "      <td>0</td>\n",
              "      <td>0</td>\n",
              "      <td>0</td>\n",
              "      <td>0</td>\n",
              "      <td>0</td>\n",
              "      <td>0</td>\n",
              "      <td>0</td>\n",
              "      <td>0</td>\n",
              "      <td>0</td>\n",
              "    </tr>\n",
              "    <tr>\n",
              "      <th>1</th>\n",
              "      <td>0</td>\n",
              "      <td>0</td>\n",
              "      <td>0</td>\n",
              "      <td>0</td>\n",
              "      <td>0</td>\n",
              "      <td>0</td>\n",
              "      <td>0</td>\n",
              "      <td>0</td>\n",
              "      <td>0</td>\n",
              "      <td>0</td>\n",
              "      <td>...</td>\n",
              "      <td>0</td>\n",
              "      <td>0</td>\n",
              "      <td>0</td>\n",
              "      <td>0</td>\n",
              "      <td>0</td>\n",
              "      <td>0</td>\n",
              "      <td>0</td>\n",
              "      <td>0</td>\n",
              "      <td>0</td>\n",
              "      <td>0</td>\n",
              "    </tr>\n",
              "    <tr>\n",
              "      <th>2</th>\n",
              "      <td>1</td>\n",
              "      <td>0</td>\n",
              "      <td>0</td>\n",
              "      <td>0</td>\n",
              "      <td>0</td>\n",
              "      <td>0</td>\n",
              "      <td>0</td>\n",
              "      <td>0</td>\n",
              "      <td>0</td>\n",
              "      <td>0</td>\n",
              "      <td>...</td>\n",
              "      <td>0</td>\n",
              "      <td>0</td>\n",
              "      <td>0</td>\n",
              "      <td>0</td>\n",
              "      <td>0</td>\n",
              "      <td>0</td>\n",
              "      <td>0</td>\n",
              "      <td>0</td>\n",
              "      <td>0</td>\n",
              "      <td>0</td>\n",
              "    </tr>\n",
              "    <tr>\n",
              "      <th>3</th>\n",
              "      <td>4</td>\n",
              "      <td>0</td>\n",
              "      <td>0</td>\n",
              "      <td>0</td>\n",
              "      <td>0</td>\n",
              "      <td>0</td>\n",
              "      <td>0</td>\n",
              "      <td>0</td>\n",
              "      <td>0</td>\n",
              "      <td>0</td>\n",
              "      <td>...</td>\n",
              "      <td>0</td>\n",
              "      <td>0</td>\n",
              "      <td>0</td>\n",
              "      <td>0</td>\n",
              "      <td>0</td>\n",
              "      <td>0</td>\n",
              "      <td>0</td>\n",
              "      <td>0</td>\n",
              "      <td>0</td>\n",
              "      <td>0</td>\n",
              "    </tr>\n",
              "    <tr>\n",
              "      <th>4</th>\n",
              "      <td>0</td>\n",
              "      <td>0</td>\n",
              "      <td>0</td>\n",
              "      <td>0</td>\n",
              "      <td>0</td>\n",
              "      <td>0</td>\n",
              "      <td>0</td>\n",
              "      <td>0</td>\n",
              "      <td>0</td>\n",
              "      <td>0</td>\n",
              "      <td>...</td>\n",
              "      <td>0</td>\n",
              "      <td>0</td>\n",
              "      <td>0</td>\n",
              "      <td>0</td>\n",
              "      <td>0</td>\n",
              "      <td>0</td>\n",
              "      <td>0</td>\n",
              "      <td>0</td>\n",
              "      <td>0</td>\n",
              "      <td>0</td>\n",
              "    </tr>\n",
              "  </tbody>\n",
              "</table>\n",
              "<p>5 rows × 785 columns</p>\n",
              "</div>\n",
              "      <button class=\"colab-df-convert\" onclick=\"convertToInteractive('df-99013d9c-28c2-4845-8f4e-06c32e49b3a0')\"\n",
              "              title=\"Convert this dataframe to an interactive table.\"\n",
              "              style=\"display:none;\">\n",
              "        \n",
              "  <svg xmlns=\"http://www.w3.org/2000/svg\" height=\"24px\"viewBox=\"0 0 24 24\"\n",
              "       width=\"24px\">\n",
              "    <path d=\"M0 0h24v24H0V0z\" fill=\"none\"/>\n",
              "    <path d=\"M18.56 5.44l.94 2.06.94-2.06 2.06-.94-2.06-.94-.94-2.06-.94 2.06-2.06.94zm-11 1L8.5 8.5l.94-2.06 2.06-.94-2.06-.94L8.5 2.5l-.94 2.06-2.06.94zm10 10l.94 2.06.94-2.06 2.06-.94-2.06-.94-.94-2.06-.94 2.06-2.06.94z\"/><path d=\"M17.41 7.96l-1.37-1.37c-.4-.4-.92-.59-1.43-.59-.52 0-1.04.2-1.43.59L10.3 9.45l-7.72 7.72c-.78.78-.78 2.05 0 2.83L4 21.41c.39.39.9.59 1.41.59.51 0 1.02-.2 1.41-.59l7.78-7.78 2.81-2.81c.8-.78.8-2.07 0-2.86zM5.41 20L4 18.59l7.72-7.72 1.47 1.35L5.41 20z\"/>\n",
              "  </svg>\n",
              "      </button>\n",
              "      \n",
              "  <style>\n",
              "    .colab-df-container {\n",
              "      display:flex;\n",
              "      flex-wrap:wrap;\n",
              "      gap: 12px;\n",
              "    }\n",
              "\n",
              "    .colab-df-convert {\n",
              "      background-color: #E8F0FE;\n",
              "      border: none;\n",
              "      border-radius: 50%;\n",
              "      cursor: pointer;\n",
              "      display: none;\n",
              "      fill: #1967D2;\n",
              "      height: 32px;\n",
              "      padding: 0 0 0 0;\n",
              "      width: 32px;\n",
              "    }\n",
              "\n",
              "    .colab-df-convert:hover {\n",
              "      background-color: #E2EBFA;\n",
              "      box-shadow: 0px 1px 2px rgba(60, 64, 67, 0.3), 0px 1px 3px 1px rgba(60, 64, 67, 0.15);\n",
              "      fill: #174EA6;\n",
              "    }\n",
              "\n",
              "    [theme=dark] .colab-df-convert {\n",
              "      background-color: #3B4455;\n",
              "      fill: #D2E3FC;\n",
              "    }\n",
              "\n",
              "    [theme=dark] .colab-df-convert:hover {\n",
              "      background-color: #434B5C;\n",
              "      box-shadow: 0px 1px 3px 1px rgba(0, 0, 0, 0.15);\n",
              "      filter: drop-shadow(0px 1px 2px rgba(0, 0, 0, 0.3));\n",
              "      fill: #FFFFFF;\n",
              "    }\n",
              "  </style>\n",
              "\n",
              "      <script>\n",
              "        const buttonEl =\n",
              "          document.querySelector('#df-99013d9c-28c2-4845-8f4e-06c32e49b3a0 button.colab-df-convert');\n",
              "        buttonEl.style.display =\n",
              "          google.colab.kernel.accessAllowed ? 'block' : 'none';\n",
              "\n",
              "        async function convertToInteractive(key) {\n",
              "          const element = document.querySelector('#df-99013d9c-28c2-4845-8f4e-06c32e49b3a0');\n",
              "          const dataTable =\n",
              "            await google.colab.kernel.invokeFunction('convertToInteractive',\n",
              "                                                     [key], {});\n",
              "          if (!dataTable) return;\n",
              "\n",
              "          const docLinkHtml = 'Like what you see? Visit the ' +\n",
              "            '<a target=\"_blank\" href=https://colab.research.google.com/notebooks/data_table.ipynb>data table notebook</a>'\n",
              "            + ' to learn more about interactive tables.';\n",
              "          element.innerHTML = '';\n",
              "          dataTable['output_type'] = 'display_data';\n",
              "          await google.colab.output.renderOutput(dataTable, element);\n",
              "          const docLink = document.createElement('div');\n",
              "          docLink.innerHTML = docLinkHtml;\n",
              "          element.appendChild(docLink);\n",
              "        }\n",
              "      </script>\n",
              "    </div>\n",
              "  </div>\n",
              "  "
            ]
          },
          "metadata": {},
          "execution_count": 7
        }
      ],
      "source": [
        "data.head(5)"
      ]
    },
    {
      "cell_type": "markdown",
      "source": [
        "### Extracting feature variables and target variable"
      ],
      "metadata": {
        "id": "zZ_ZBgUAJd5q"
      }
    },
    {
      "cell_type": "code",
      "execution_count": null,
      "metadata": {
        "id": "ZzgfjB-RJ_fn"
      },
      "outputs": [],
      "source": [
        "data_y = data['label'].values\n",
        "data_x = data.drop('label',axis=1)"
      ]
    },
    {
      "cell_type": "markdown",
      "source": [
        "### Data visualization"
      ],
      "metadata": {
        "id": "UVf1ThLGJzq8"
      }
    },
    {
      "cell_type": "code",
      "execution_count": null,
      "metadata": {
        "colab": {
          "base_uri": "https://localhost:8080/",
          "height": 283
        },
        "id": "tfk0BpyKSNFH",
        "outputId": "dd11f53d-fc0c-4a2c-d6a5-a60a958093c7"
      },
      "outputs": [
        {
          "output_type": "execute_result",
          "data": {
            "text/plain": [
              "<matplotlib.image.AxesImage at 0x7f3b315b82b0>"
            ]
          },
          "metadata": {},
          "execution_count": 9
        },
        {
          "output_type": "display_data",
          "data": {
            "text/plain": [
              "<Figure size 432x288 with 1 Axes>"
            ],
            "image/png": "[encoded data removed]"
          },
          "metadata": {
            "needs_background": "light"
          }
        }
      ],
      "source": [
        "img = data_x.iloc[8].values.reshape((28,28))\n",
        "plt.imshow(img,cmap='gray')"
      ]
    },
    {
      "cell_type": "code",
      "execution_count": null,
      "metadata": {
        "colab": {
          "base_uri": "https://localhost:8080/"
        },
        "id": "HBU1DRAhcxPT",
        "outputId": "f130baeb-e4ff-41f1-97a9-54ec5f42737b"
      },
      "outputs": [
        {
          "output_type": "execute_result",
          "data": {
            "text/plain": [
              "{0, 1, 2, 3, 4, 5, 6, 7, 8, 9}"
            ]
          },
          "metadata": {},
          "execution_count": 10
        }
      ],
      "source": [
        "set(data_y)"
      ]
    },
    {
      "cell_type": "code",
      "source": [
        "X_train, X_test, y_train, y_test = train_test_split(data_x, data_y, test_size = 0.1, random_state=42)"
      ],
      "metadata": {
        "id": "9JJTyfVo9qjI"
      },
      "execution_count": null,
      "outputs": []
    },
    {
      "cell_type": "code",
      "execution_count": null,
      "metadata": {
        "id": "Wam0bgHHgAtt"
      },
      "outputs": [],
      "source": [
        "X_train, X_val, y_train, y_val = train_test_split(X_train, y_train, test_size = 0.1, random_state=42)"
      ]
    },
    {
      "cell_type": "markdown",
      "source": [
        "### Functions"
      ],
      "metadata": {
        "id": "3jMLq13Jppax"
      }
    },
    {
      "cell_type": "code",
      "source": [
        "def plot_fig(i, history):\n",
        "    fig = plt.figure(figsize=(6, 6))\n",
        "    plt.plot(range(1,epochs+1),history.history['val_accuracy'],label='validation')\n",
        "    plt.plot(range(1,epochs+1),history.history['accuracy'],label='training')\n",
        "    plt.legend(loc=0)\n",
        "    plt.xlabel('epochs')\n",
        "    plt.ylabel('accuracy')\n",
        "    plt.xlim([1,epochs])\n",
        "#     plt.ylim([0,1])\n",
        "    plt.grid(True)\n",
        "    plt.title(\"Model Accuracy\")\n",
        "    plt.show()\n",
        "    fig.savefig('img/'+str(i)+'-accuracy.jpg')\n",
        "    plt.close(fig)"
      ],
      "metadata": {
        "id": "FTpSJIrEpuic"
      },
      "execution_count": null,
      "outputs": []
    },
    {
      "cell_type": "markdown",
      "source": [
        "Define function to construct NN model"
      ],
      "metadata": {
        "id": "D5RHGV9YkxFP"
      }
    },
    {
      "cell_type": "code",
      "source": [
        "def nn_model():\n",
        "    model = keras.Sequential([\n",
        "    keras.layers.Dense(128, activation=tf.nn.relu, input_shape=(784,)),\n",
        "    keras.layers.Dense(128, activation=tf.nn.relu),\n",
        "    keras.layers.Dense(128, activation=tf.nn.relu),\n",
        "    keras.layers.Dense(10, activation=tf.nn.softmax)])\n",
        "    return model"
      ],
      "metadata": {
        "id": "YnVh6g2Ok3-X"
      },
      "execution_count": null,
      "outputs": []
    },
    {
      "cell_type": "code",
      "source": [
        "def model_prediction(model, loc_num):\n",
        "  model.predict(X_test).argmax(axis=1)\n",
        "\n",
        "  img = X_test.iloc[loc_num].values.reshape((28,28))\n",
        "  plt.imshow(img,cmap='gray')\n",
        "  print(\"The predicted label is:\" ,model.predict(X_test).argmax(axis=1)[loc_num])"
      ],
      "metadata": {
        "id": "a74PuTIty4x3"
      },
      "execution_count": null,
      "outputs": []
    },
    {
      "cell_type": "markdown",
      "source": [
        "Further ahead: You can try increasing the model layers and play with the hyperparameters to increase model's performance"
      ],
      "metadata": {
        "id": "3h-x_GomK2Kw"
      }
    },
    {
      "cell_type": "markdown",
      "source": [
        "## Varients of Gradient Descent"
      ],
      "metadata": {
        "id": "lhGkvTiG56_8"
      }
    },
    {
      "cell_type": "code",
      "source": [
        "X_train.shape"
      ],
      "metadata": {
        "colab": {
          "base_uri": "https://localhost:8080/"
        },
        "id": "RN5eAHmjWNbr",
        "outputId": "0d291608-c3fa-4b8f-fc93-1a4431056b37"
      },
      "execution_count": null,
      "outputs": [
        {
          "output_type": "execute_result",
          "data": {
            "text/plain": [
              "(34020, 784)"
            ]
          },
          "metadata": {},
          "execution_count": 16
        }
      ]
    },
    {
      "cell_type": "markdown",
      "source": [
        "### **Batch Gradient Descent**"
      ],
      "metadata": {
        "id": "YByuYLsr6QHF"
      }
    },
    {
      "cell_type": "code",
      "source": [
        "# set batchsize and epochs\n",
        "batch_size = 34020\n",
        "epochs = 50\n",
        "\n",
        "# Diclare the NN\n",
        "model_batch = nn_model()\n",
        "\n",
        "# compile the model\n",
        "model_batch.compile(optimizer=tf.keras.optimizers.SGD(learning_rate=0.0001),\n",
        "             loss='sparse_categorical_crossentropy',\n",
        "              metrics=['accuracy'])\n",
        "\n",
        "# fit the model\n",
        "history_batch = model_batch.fit(X_train, y_train, batch_size=batch_size, epochs=epochs, validation_data=(X_val, y_val))"
      ],
      "metadata": {
        "colab": {
          "base_uri": "https://localhost:8080/"
        },
        "id": "upZ05r0s52UV",
        "outputId": "766dbb8a-251f-4ee3-8d8f-18e216e3b20f"
      },
      "execution_count": null,
      "outputs": [
        {
          "output_type": "stream",
          "name": "stdout",
          "text": [
            "Epoch 1/50\n",
            "1/1 [==============================] - 2s 2s/step - loss: 111.6001 - accuracy: 0.1194 - val_loss: 87.6309 - val_accuracy: 0.1294\n",
            "Epoch 2/50\n",
            "1/1 [==============================] - 1s 618ms/step - loss: 88.0912 - accuracy: 0.1330 - val_loss: 74.0617 - val_accuracy: 0.1347\n",
            "Epoch 3/50\n",
            "1/1 [==============================] - 1s 591ms/step - loss: 74.3539 - accuracy: 0.1324 - val_loss: 63.7559 - val_accuracy: 0.1344\n",
            "Epoch 4/50\n",
            "1/1 [==============================] - 1s 595ms/step - loss: 63.9810 - accuracy: 0.1325 - val_loss: 55.3389 - val_accuracy: 0.1349\n",
            "Epoch 5/50\n",
            "1/1 [==============================] - 1s 597ms/step - loss: 55.5636 - accuracy: 0.1343 - val_loss: 48.5507 - val_accuracy: 0.1415\n",
            "Epoch 6/50\n",
            "1/1 [==============================] - 1s 573ms/step - loss: 48.8097 - accuracy: 0.1415 - val_loss: 43.3268 - val_accuracy: 0.1550\n",
            "Epoch 7/50\n",
            "1/1 [==============================] - 1s 593ms/step - loss: 43.5685 - accuracy: 0.1532 - val_loss: 39.3669 - val_accuracy: 0.1677\n",
            "Epoch 8/50\n",
            "1/1 [==============================] - 1s 602ms/step - loss: 39.5549 - accuracy: 0.1656 - val_loss: 36.2664 - val_accuracy: 0.1860\n",
            "Epoch 9/50\n",
            "1/1 [==============================] - 1s 628ms/step - loss: 36.4294 - accuracy: 0.1782 - val_loss: 33.7392 - val_accuracy: 0.1971\n",
            "Epoch 10/50\n",
            "1/1 [==============================] - 1s 630ms/step - loss: 33.8733 - accuracy: 0.1910 - val_loss: 31.5638 - val_accuracy: 0.2077\n",
            "Epoch 11/50\n",
            "1/1 [==============================] - 1s 598ms/step - loss: 31.6743 - accuracy: 0.2014 - val_loss: 29.6299 - val_accuracy: 0.2185\n",
            "Epoch 12/50\n",
            "1/1 [==============================] - 1s 603ms/step - loss: 29.7317 - accuracy: 0.2130 - val_loss: 27.8969 - val_accuracy: 0.2246\n",
            "Epoch 13/50\n",
            "1/1 [==============================] - 1s 589ms/step - loss: 28.0055 - accuracy: 0.2231 - val_loss: 26.3468 - val_accuracy: 0.2362\n",
            "Epoch 14/50\n",
            "1/1 [==============================] - 1s 605ms/step - loss: 26.4696 - accuracy: 0.2338 - val_loss: 24.9564 - val_accuracy: 0.2455\n",
            "Epoch 15/50\n",
            "1/1 [==============================] - 1s 578ms/step - loss: 25.0966 - accuracy: 0.2437 - val_loss: 23.6946 - val_accuracy: 0.2553\n",
            "Epoch 16/50\n",
            "1/1 [==============================] - 1s 593ms/step - loss: 23.8610 - accuracy: 0.2544 - val_loss: 22.5423 - val_accuracy: 0.2659\n",
            "Epoch 17/50\n",
            "1/1 [==============================] - 1s 581ms/step - loss: 22.7373 - accuracy: 0.2639 - val_loss: 21.4880 - val_accuracy: 0.2741\n",
            "Epoch 18/50\n",
            "1/1 [==============================] - 1s 576ms/step - loss: 21.7105 - accuracy: 0.2741 - val_loss: 20.5197 - val_accuracy: 0.2841\n",
            "Epoch 19/50\n",
            "1/1 [==============================] - 1s 672ms/step - loss: 20.7711 - accuracy: 0.2824 - val_loss: 19.6262 - val_accuracy: 0.2926\n",
            "Epoch 20/50\n",
            "1/1 [==============================] - 1s 656ms/step - loss: 19.9106 - accuracy: 0.2927 - val_loss: 18.8065 - val_accuracy: 0.3058\n",
            "Epoch 21/50\n",
            "1/1 [==============================] - 1s 671ms/step - loss: 19.1215 - accuracy: 0.3005 - val_loss: 18.0587 - val_accuracy: 0.3138\n",
            "Epoch 22/50\n",
            "1/1 [==============================] - 1s 583ms/step - loss: 18.3977 - accuracy: 0.3086 - val_loss: 17.3812 - val_accuracy: 0.3246\n",
            "Epoch 23/50\n",
            "1/1 [==============================] - 1s 580ms/step - loss: 17.7361 - accuracy: 0.3159 - val_loss: 16.7720 - val_accuracy: 0.3320\n",
            "Epoch 24/50\n",
            "1/1 [==============================] - 1s 593ms/step - loss: 17.1352 - accuracy: 0.3235 - val_loss: 16.2260 - val_accuracy: 0.3421\n",
            "Epoch 25/50\n",
            "1/1 [==============================] - 1s 645ms/step - loss: 16.5902 - accuracy: 0.3314 - val_loss: 15.7337 - val_accuracy: 0.3508\n",
            "Epoch 26/50\n",
            "1/1 [==============================] - 1s 658ms/step - loss: 16.0956 - accuracy: 0.3394 - val_loss: 15.2885 - val_accuracy: 0.3582\n",
            "Epoch 27/50\n",
            "1/1 [==============================] - 1s 602ms/step - loss: 15.6459 - accuracy: 0.3466 - val_loss: 14.8850 - val_accuracy: 0.3680\n",
            "Epoch 28/50\n",
            "1/1 [==============================] - 1s 576ms/step - loss: 15.2356 - accuracy: 0.3539 - val_loss: 14.5184 - val_accuracy: 0.3757\n",
            "Epoch 29/50\n",
            "1/1 [==============================] - 1s 594ms/step - loss: 14.8598 - accuracy: 0.3612 - val_loss: 14.1834 - val_accuracy: 0.3849\n",
            "Epoch 30/50\n",
            "1/1 [==============================] - 1s 574ms/step - loss: 14.5134 - accuracy: 0.3671 - val_loss: 13.8744 - val_accuracy: 0.3926\n",
            "Epoch 31/50\n",
            "1/1 [==============================] - 1s 591ms/step - loss: 14.1926 - accuracy: 0.3739 - val_loss: 13.5881 - val_accuracy: 0.3979\n",
            "Epoch 32/50\n",
            "1/1 [==============================] - 1s 584ms/step - loss: 13.8947 - accuracy: 0.3805 - val_loss: 13.3213 - val_accuracy: 0.4045\n",
            "Epoch 33/50\n",
            "1/1 [==============================] - 1s 578ms/step - loss: 13.6163 - accuracy: 0.3872 - val_loss: 13.0716 - val_accuracy: 0.4106\n",
            "Epoch 34/50\n",
            "1/1 [==============================] - 1s 598ms/step - loss: 13.3541 - accuracy: 0.3932 - val_loss: 12.8373 - val_accuracy: 0.4175\n",
            "Epoch 35/50\n",
            "1/1 [==============================] - 1s 570ms/step - loss: 13.1066 - accuracy: 0.3994 - val_loss: 12.6165 - val_accuracy: 0.4233\n",
            "Epoch 36/50\n",
            "1/1 [==============================] - 1s 587ms/step - loss: 12.8720 - accuracy: 0.4060 - val_loss: 12.4081 - val_accuracy: 0.4283\n",
            "Epoch 37/50\n",
            "1/1 [==============================] - 1s 578ms/step - loss: 12.6490 - accuracy: 0.4116 - val_loss: 12.2101 - val_accuracy: 0.4323\n",
            "Epoch 38/50\n",
            "1/1 [==============================] - 1s 587ms/step - loss: 12.4368 - accuracy: 0.4182 - val_loss: 12.0219 - val_accuracy: 0.4362\n",
            "Epoch 39/50\n",
            "1/1 [==============================] - 1s 570ms/step - loss: 12.2347 - accuracy: 0.4245 - val_loss: 11.8423 - val_accuracy: 0.4413\n",
            "Epoch 40/50\n",
            "1/1 [==============================] - 1s 607ms/step - loss: 12.0417 - accuracy: 0.4298 - val_loss: 11.6702 - val_accuracy: 0.4484\n",
            "Epoch 41/50\n",
            "1/1 [==============================] - 1s 580ms/step - loss: 11.8567 - accuracy: 0.4353 - val_loss: 11.5051 - val_accuracy: 0.4545\n",
            "Epoch 42/50\n",
            "1/1 [==============================] - 1s 584ms/step - loss: 11.6796 - accuracy: 0.4408 - val_loss: 11.3466 - val_accuracy: 0.4566\n",
            "Epoch 43/50\n",
            "1/1 [==============================] - 1s 588ms/step - loss: 11.5097 - accuracy: 0.4466 - val_loss: 11.1945 - val_accuracy: 0.4574\n",
            "Epoch 44/50\n",
            "1/1 [==============================] - 1s 578ms/step - loss: 11.3465 - accuracy: 0.4520 - val_loss: 11.0485 - val_accuracy: 0.4606\n",
            "Epoch 45/50\n",
            "1/1 [==============================] - 1s 593ms/step - loss: 11.1897 - accuracy: 0.4570 - val_loss: 10.9077 - val_accuracy: 0.4659\n",
            "Epoch 46/50\n",
            "1/1 [==============================] - 1s 584ms/step - loss: 11.0385 - accuracy: 0.4618 - val_loss: 10.7720 - val_accuracy: 0.4704\n",
            "Epoch 47/50\n",
            "1/1 [==============================] - 1s 583ms/step - loss: 10.8927 - accuracy: 0.4664 - val_loss: 10.6408 - val_accuracy: 0.4754\n",
            "Epoch 48/50\n",
            "1/1 [==============================] - 1s 585ms/step - loss: 10.7520 - accuracy: 0.4710 - val_loss: 10.5137 - val_accuracy: 0.4786\n",
            "Epoch 49/50\n",
            "1/1 [==============================] - 1s 515ms/step - loss: 10.6158 - accuracy: 0.4750 - val_loss: 10.3909 - val_accuracy: 0.4825\n",
            "Epoch 50/50\n",
            "1/1 [==============================] - 1s 552ms/step - loss: 10.4841 - accuracy: 0.4782 - val_loss: 10.2718 - val_accuracy: 0.4857\n"
          ]
        }
      ]
    },
    {
      "cell_type": "code",
      "source": [
        "plot_fig(1, history_batch)"
      ],
      "metadata": {
        "colab": {
          "base_uri": "https://localhost:8080/",
          "height": 404
        },
        "id": "yG99aX5X7k-t",
        "outputId": "fb652435-307a-41f6-ce74-c2ae9df6fd35"
      },
      "execution_count": null,
      "outputs": [
        {
          "output_type": "display_data",
          "data": {
            "text/plain": [
              "<Figure size 432x432 with 1 Axes>"
            ],
            "image/png": "[encoded data removed]"
          },
          "metadata": {
            "needs_background": "light"
          }
        }
      ]
    },
    {
      "cell_type": "markdown",
      "source": [
        "Observations\n",
        "\n",
        "- Learning is not complete after 50 epochs."
      ],
      "metadata": {
        "id": "WvLrNuUrGhCi"
      }
    },
    {
      "cell_type": "markdown",
      "source": [
        "### **Mini Batch GD**"
      ],
      "metadata": {
        "id": "ra_BXbE4rqjS"
      }
    },
    {
      "cell_type": "code",
      "source": [
        "# set batchsize and epochs\n",
        "# assuming 100 batches per epoch\n",
        "batch_size = 340\n",
        "epochs = 50\n",
        "\n",
        "# Diclare the NN\n",
        "model_mini_batch = nn_model()\n",
        "\n",
        "# compile the model\n",
        "model_mini_batch.compile(optimizer=tf.keras.optimizers.SGD(learning_rate=0.0001),\n",
        "             loss='sparse_categorical_crossentropy',\n",
        "              metrics=['accuracy'])\n",
        "\n",
        "# fit the model\n",
        "history_mini_batch = model_mini_batch.fit(X_train, y_train, batch_size=batch_size, epochs=epochs, validation_data=(X_val, y_val))"
      ],
      "metadata": {
        "colab": {
          "base_uri": "https://localhost:8080/"
        },
        "id": "_23gQERkq8IM",
        "outputId": "f9460dc3-e64b-47b7-c248-58470452d91e"
      },
      "execution_count": null,
      "outputs": [
        {
          "output_type": "stream",
          "name": "stdout",
          "text": [
            "Epoch 1/50\n",
            "101/101 [==============================] - 2s 12ms/step - loss: 14.7715 - accuracy: 0.4270 - val_loss: 6.6093 - val_accuracy: 0.5968\n",
            "Epoch 2/50\n",
            "101/101 [==============================] - 1s 10ms/step - loss: 5.3827 - accuracy: 0.6526 - val_loss: 4.4769 - val_accuracy: 0.6860\n",
            "Epoch 3/50\n",
            "101/101 [==============================] - 1s 10ms/step - loss: 3.9154 - accuracy: 0.7141 - val_loss: 3.4879 - val_accuracy: 0.7352\n",
            "Epoch 4/50\n",
            "101/101 [==============================] - 1s 10ms/step - loss: 3.1877 - accuracy: 0.7482 - val_loss: 2.9951 - val_accuracy: 0.7667\n",
            "Epoch 5/50\n",
            "101/101 [==============================] - 1s 10ms/step - loss: 2.7332 - accuracy: 0.7713 - val_loss: 2.6472 - val_accuracy: 0.7802\n",
            "Epoch 6/50\n",
            "101/101 [==============================] - 1s 10ms/step - loss: 2.4272 - accuracy: 0.7877 - val_loss: 2.4125 - val_accuracy: 0.7931\n",
            "Epoch 7/50\n",
            "101/101 [==============================] - 1s 10ms/step - loss: 2.1984 - accuracy: 0.7999 - val_loss: 2.2553 - val_accuracy: 0.8016\n",
            "Epoch 8/50\n",
            "101/101 [==============================] - 1s 10ms/step - loss: 2.0179 - accuracy: 0.8101 - val_loss: 2.2213 - val_accuracy: 0.7984\n",
            "Epoch 9/50\n",
            "101/101 [==============================] - 2s 16ms/step - loss: 1.8743 - accuracy: 0.8174 - val_loss: 1.9783 - val_accuracy: 0.8175\n",
            "Epoch 10/50\n",
            "101/101 [==============================] - 1s 10ms/step - loss: 1.7476 - accuracy: 0.8243 - val_loss: 1.8801 - val_accuracy: 0.8214\n",
            "Epoch 11/50\n",
            "101/101 [==============================] - 1s 10ms/step - loss: 1.6434 - accuracy: 0.8301 - val_loss: 1.7901 - val_accuracy: 0.8251\n",
            "Epoch 12/50\n",
            "101/101 [==============================] - 1s 10ms/step - loss: 1.5538 - accuracy: 0.8358 - val_loss: 1.7088 - val_accuracy: 0.8339\n",
            "Epoch 13/50\n",
            "101/101 [==============================] - 1s 10ms/step - loss: 1.4745 - accuracy: 0.8413 - val_loss: 1.6920 - val_accuracy: 0.8296\n",
            "Epoch 14/50\n",
            "101/101 [==============================] - 1s 10ms/step - loss: 1.4056 - accuracy: 0.8449 - val_loss: 1.5935 - val_accuracy: 0.8384\n",
            "Epoch 15/50\n",
            "101/101 [==============================] - 1s 10ms/step - loss: 1.3418 - accuracy: 0.8487 - val_loss: 1.5345 - val_accuracy: 0.8394\n",
            "Epoch 16/50\n",
            "101/101 [==============================] - 1s 10ms/step - loss: 1.2848 - accuracy: 0.8519 - val_loss: 1.4938 - val_accuracy: 0.8423\n",
            "Epoch 17/50\n",
            "101/101 [==============================] - 1s 10ms/step - loss: 1.2334 - accuracy: 0.8550 - val_loss: 1.4510 - val_accuracy: 0.8452\n",
            "Epoch 18/50\n",
            "101/101 [==============================] - 1s 10ms/step - loss: 1.1865 - accuracy: 0.8583 - val_loss: 1.4239 - val_accuracy: 0.8463\n",
            "Epoch 19/50\n",
            "101/101 [==============================] - 1s 10ms/step - loss: 1.1446 - accuracy: 0.8614 - val_loss: 1.3858 - val_accuracy: 0.8484\n",
            "Epoch 20/50\n",
            "101/101 [==============================] - 1s 10ms/step - loss: 1.1044 - accuracy: 0.8643 - val_loss: 1.3428 - val_accuracy: 0.8497\n",
            "Epoch 21/50\n",
            "101/101 [==============================] - 1s 10ms/step - loss: 1.0685 - accuracy: 0.8674 - val_loss: 1.3129 - val_accuracy: 0.8532\n",
            "Epoch 22/50\n",
            "101/101 [==============================] - 1s 10ms/step - loss: 1.0347 - accuracy: 0.8690 - val_loss: 1.3009 - val_accuracy: 0.8511\n",
            "Epoch 23/50\n",
            "101/101 [==============================] - 1s 10ms/step - loss: 1.0037 - accuracy: 0.8720 - val_loss: 1.2747 - val_accuracy: 0.8553\n",
            "Epoch 24/50\n",
            "101/101 [==============================] - 1s 10ms/step - loss: 0.9737 - accuracy: 0.8730 - val_loss: 1.2440 - val_accuracy: 0.8545\n",
            "Epoch 25/50\n",
            "101/101 [==============================] - 1s 10ms/step - loss: 0.9452 - accuracy: 0.8753 - val_loss: 1.2165 - val_accuracy: 0.8571\n",
            "Epoch 26/50\n",
            "101/101 [==============================] - 1s 10ms/step - loss: 0.9196 - accuracy: 0.8770 - val_loss: 1.2041 - val_accuracy: 0.8579\n",
            "Epoch 27/50\n",
            "101/101 [==============================] - 1s 10ms/step - loss: 0.8943 - accuracy: 0.8798 - val_loss: 1.1837 - val_accuracy: 0.8614\n",
            "Epoch 28/50\n",
            "101/101 [==============================] - 1s 10ms/step - loss: 0.8716 - accuracy: 0.8814 - val_loss: 1.1593 - val_accuracy: 0.8606\n",
            "Epoch 29/50\n",
            "101/101 [==============================] - 1s 10ms/step - loss: 0.8499 - accuracy: 0.8825 - val_loss: 1.1453 - val_accuracy: 0.8601\n",
            "Epoch 30/50\n",
            "101/101 [==============================] - 1s 10ms/step - loss: 0.8304 - accuracy: 0.8844 - val_loss: 1.1180 - val_accuracy: 0.8616\n",
            "Epoch 31/50\n",
            "101/101 [==============================] - 1s 10ms/step - loss: 0.8101 - accuracy: 0.8858 - val_loss: 1.1147 - val_accuracy: 0.8611\n",
            "Epoch 32/50\n",
            "101/101 [==============================] - 1s 10ms/step - loss: 0.7902 - accuracy: 0.8876 - val_loss: 1.0870 - val_accuracy: 0.8664\n",
            "Epoch 33/50\n",
            "101/101 [==============================] - 1s 14ms/step - loss: 0.7729 - accuracy: 0.8889 - val_loss: 1.0709 - val_accuracy: 0.8653\n",
            "Epoch 34/50\n",
            "101/101 [==============================] - 2s 17ms/step - loss: 0.7551 - accuracy: 0.8899 - val_loss: 1.0775 - val_accuracy: 0.8648\n",
            "Epoch 35/50\n",
            "101/101 [==============================] - 1s 10ms/step - loss: 0.7392 - accuracy: 0.8911 - val_loss: 1.0501 - val_accuracy: 0.8656\n",
            "Epoch 36/50\n",
            "101/101 [==============================] - 1s 10ms/step - loss: 0.7235 - accuracy: 0.8933 - val_loss: 1.0357 - val_accuracy: 0.8680\n",
            "Epoch 37/50\n",
            "101/101 [==============================] - 1s 10ms/step - loss: 0.7084 - accuracy: 0.8937 - val_loss: 1.0312 - val_accuracy: 0.8701\n",
            "Epoch 38/50\n",
            "101/101 [==============================] - 1s 10ms/step - loss: 0.6951 - accuracy: 0.8953 - val_loss: 1.0185 - val_accuracy: 0.8677\n",
            "Epoch 39/50\n",
            "101/101 [==============================] - 1s 10ms/step - loss: 0.6796 - accuracy: 0.8982 - val_loss: 1.0023 - val_accuracy: 0.8675\n",
            "Epoch 40/50\n",
            "101/101 [==============================] - 1s 10ms/step - loss: 0.6676 - accuracy: 0.8986 - val_loss: 1.0036 - val_accuracy: 0.8712\n",
            "Epoch 41/50\n",
            "101/101 [==============================] - 1s 10ms/step - loss: 0.6550 - accuracy: 0.9004 - val_loss: 0.9939 - val_accuracy: 0.8672\n",
            "Epoch 42/50\n",
            "101/101 [==============================] - 1s 10ms/step - loss: 0.6427 - accuracy: 0.9013 - val_loss: 0.9761 - val_accuracy: 0.8698\n",
            "Epoch 43/50\n",
            "101/101 [==============================] - 1s 10ms/step - loss: 0.6313 - accuracy: 0.9024 - val_loss: 0.9659 - val_accuracy: 0.8698\n",
            "Epoch 44/50\n",
            "101/101 [==============================] - 1s 10ms/step - loss: 0.6216 - accuracy: 0.9035 - val_loss: 0.9545 - val_accuracy: 0.8714\n",
            "Epoch 45/50\n",
            "101/101 [==============================] - 1s 10ms/step - loss: 0.6082 - accuracy: 0.9046 - val_loss: 0.9481 - val_accuracy: 0.8698\n",
            "Epoch 46/50\n",
            "101/101 [==============================] - 1s 10ms/step - loss: 0.5986 - accuracy: 0.9054 - val_loss: 0.9453 - val_accuracy: 0.8706\n",
            "Epoch 47/50\n",
            "101/101 [==============================] - 1s 10ms/step - loss: 0.5898 - accuracy: 0.9065 - val_loss: 0.9285 - val_accuracy: 0.8717\n",
            "Epoch 48/50\n",
            "101/101 [==============================] - 1s 11ms/step - loss: 0.5784 - accuracy: 0.9078 - val_loss: 0.9275 - val_accuracy: 0.8730\n",
            "Epoch 49/50\n",
            "101/101 [==============================] - 1s 11ms/step - loss: 0.5693 - accuracy: 0.9083 - val_loss: 0.9222 - val_accuracy: 0.8730\n",
            "Epoch 50/50\n",
            "101/101 [==============================] - 1s 10ms/step - loss: 0.5607 - accuracy: 0.9093 - val_loss: 0.9068 - val_accuracy: 0.8746\n"
          ]
        }
      ]
    },
    {
      "cell_type": "code",
      "source": [
        "plot_fig(2, history_mini_batch)"
      ],
      "metadata": {
        "colab": {
          "base_uri": "https://localhost:8080/",
          "height": 404
        },
        "id": "QC3qMrM1q8DV",
        "outputId": "e4e6703a-2ff0-4d2d-d8df-3be5334de3f9"
      },
      "execution_count": null,
      "outputs": [
        {
          "output_type": "display_data",
          "data": {
            "text/plain": [
              "<Figure size 432x432 with 1 Axes>"
            ],
            "image/png": "[encoded data removed]"
          },
          "metadata": {
            "needs_background": "light"
          }
        }
      ]
    },
    {
      "cell_type": "markdown",
      "source": [
        "Observations\n",
        "- It appears that the training is complete and the model is overfitting."
      ],
      "metadata": {
        "id": "ehXld1xdG-0T"
      }
    },
    {
      "cell_type": "markdown",
      "source": [
        "### **Stochastic GD**"
      ],
      "metadata": {
        "id": "b-DjS7imr1nr"
      }
    },
    {
      "cell_type": "markdown",
      "source": [
        "**Note** following cell takes almost 15 mins to train."
      ],
      "metadata": {
        "id": "wAT7CCvhK_5w"
      }
    },
    {
      "cell_type": "code",
      "source": [
        "# set batchsize and epochs\n",
        "batch_size = 1\n",
        "epochs = 10\n",
        "\n",
        "# Diclare the NN\n",
        "model_sgd = nn_model()\n",
        "\n",
        "# compile the model\n",
        "model_sgd.compile(optimizer=tf.keras.optimizers.SGD(learning_rate=0.0001),\n",
        "             loss='sparse_categorical_crossentropy',\n",
        "              metrics=['accuracy'])\n",
        "\n",
        "# fit the model\n",
        "history_sgd = model_sgd.fit(X_train, y_train, batch_size=batch_size, epochs=epochs, validation_data=(X_val, y_val))"
      ],
      "metadata": {
        "colab": {
          "base_uri": "https://localhost:8080/"
        },
        "id": "rS2mwUNMq8By",
        "outputId": "8afcc2d0-46a1-450e-bd88-5b57ee3125df"
      },
      "execution_count": null,
      "outputs": [
        {
          "output_type": "stream",
          "name": "stdout",
          "text": [
            "Epoch 1/10\n",
            "34020/34020 [==============================] - 67s 2ms/step - loss: 0.8619 - accuracy: 0.8437 - val_loss: 0.3152 - val_accuracy: 0.9058\n",
            "Epoch 2/10\n",
            "34020/34020 [==============================] - 75s 2ms/step - loss: 0.2452 - accuracy: 0.9286 - val_loss: 0.2731 - val_accuracy: 0.9201\n",
            "Epoch 3/10\n",
            "23222/34020 [===================>..........] - ETA: 19s - loss: 0.1772 - accuracy: 0.9458"
          ]
        }
      ]
    },
    {
      "cell_type": "code",
      "source": [
        "plot_fig(3, history_sgd)"
      ],
      "metadata": {
        "id": "r9Z2rlWvsAIE"
      },
      "execution_count": null,
      "outputs": []
    },
    {
      "cell_type": "markdown",
      "source": [
        "Observation\n",
        "- Model has completed learning even less number of epochs."
      ],
      "metadata": {
        "id": "HFWt2XXfK06k"
      }
    },
    {
      "cell_type": "markdown",
      "source": [
        "### Model evaluation\n",
        "\n",
        "Using the three models to make predictions on unseen data."
      ],
      "metadata": {
        "id": "C_Jzy18oKJYQ"
      }
    },
    {
      "cell_type": "code",
      "source": [
        "# Batch GD\n",
        "\n",
        "model_prediction(model_batch, 3)"
      ],
      "metadata": {
        "id": "po-NIgzAzzHa"
      },
      "execution_count": null,
      "outputs": []
    },
    {
      "cell_type": "code",
      "source": [
        "# Mini batch GD\n",
        "\n",
        "model_prediction(model_mini_batch, 3)"
      ],
      "metadata": {
        "id": "51c00ok9z7aJ"
      },
      "execution_count": null,
      "outputs": []
    },
    {
      "cell_type": "code",
      "source": [
        "#SGD\n",
        "\n",
        "model_prediction(model_sgd, 3)"
      ],
      "metadata": {
        "id": "0cT2abl-z7TQ"
      },
      "execution_count": null,
      "outputs": []
    },
    {
      "cell_type": "markdown",
      "source": [
        "SGD has predicted correctly."
      ],
      "metadata": {
        "id": "bXyO6RMjLVLB"
      }
    },
    {
      "cell_type": "code",
      "source": [
        "# One more manual prediction test\n",
        "\n",
        "model_prediction(model_batch, 10)"
      ],
      "metadata": {
        "id": "djnsaosuLRXu"
      },
      "execution_count": null,
      "outputs": []
    },
    {
      "cell_type": "code",
      "source": [
        "model_prediction(model_mini_batch, 10)"
      ],
      "metadata": {
        "id": "DYY3HOF_LfBm"
      },
      "execution_count": null,
      "outputs": []
    },
    {
      "cell_type": "code",
      "source": [
        "model_prediction(model_sgd, 10)"
      ],
      "metadata": {
        "id": "Gejew1IqLhgm"
      },
      "execution_count": null,
      "outputs": []
    },
    {
      "cell_type": "markdown",
      "source": [
        "**Conclusion**\n",
        "\n",
        "- By changing the GD algorithms you can get quicker training times.  "
      ],
      "metadata": {
        "id": "N8ppQivAL72U"
      }
    },
    {
      "cell_type": "code",
      "source": [
        "y_pred_batch = model_batch.predict(X_test).argmax(axis=1)\n",
        "accuracy_score(y_test, y_pred_batch)"
      ],
      "metadata": {
        "id": "f7sO84r47fqH"
      },
      "execution_count": null,
      "outputs": []
    },
    {
      "cell_type": "markdown",
      "source": [
        "Learning for the batch GD is not complete hence low accuracy."
      ],
      "metadata": {
        "id": "eRg--o4cFUr5"
      }
    },
    {
      "cell_type": "code",
      "source": [
        "y_pred_mini = model_mini_batch.predict(X_test).argmax(axis=1)\n",
        "accuracy_score(y_test, y_pred_mini)"
      ],
      "metadata": {
        "id": "0m3OJ4iRDHg9"
      },
      "execution_count": null,
      "outputs": []
    },
    {
      "cell_type": "code",
      "source": [
        "y_pred_sgd = model_sgd.predict(X_test).argmax(axis=1)\n",
        "accuracy_score(y_test, y_pred_sgd)"
      ],
      "metadata": {
        "id": "EfJKb5OsDQWh"
      },
      "execution_count": null,
      "outputs": []
    },
    {
      "cell_type": "code",
      "source": [],
      "metadata": {
        "id": "L4_FIi5RDWsT"
      },
      "execution_count": null,
      "outputs": []
    }
  ],
  "metadata": {
    "colab": {
      "provenance": [],
      "include_colab_link": true
    },
    "kernelspec": {
      "display_name": "Python 3",
      "language": "python",
      "name": "python3"
    },
    "language_info": {
      "codemirror_mode": {
        "name": "ipython",
        "version": 3
      },
      "file_extension": ".py",
      "mimetype": "text/x-python",
      "name": "python",
      "nbconvert_exporter": "python",
      "pygments_lexer": "ipython3",
      "version": "3.9.4"
    }
  },
  "nbformat": 4,
  "nbformat_minor": 0
}